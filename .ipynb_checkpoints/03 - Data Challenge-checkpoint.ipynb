{
 "cells": [
  {
   "cell_type": "markdown",
   "metadata": {},
   "source": [
    "# Encontramos tu oficina"
   ]
  },
  {
   "cell_type": "code",
   "execution_count": 1,
   "metadata": {},
   "outputs": [],
   "source": [
    "# librerias\n",
    "\n",
    "from pymongo import MongoClient\n",
    "\n",
    "import pandas as pd\n",
    "from pandas.io.json import json_normalize\n",
    "\n",
    "import re\n",
    "import folium"
   ]
  },
  {
   "cell_type": "code",
   "execution_count": 2,
   "metadata": {},
   "outputs": [],
   "source": [
    "# conexion con Mongo\n",
    "\n",
    "cliente=MongoClient()\n",
    "\n",
    "db=cliente.companies"
   ]
  },
  {
   "cell_type": "code",
   "execution_count": null,
   "metadata": {},
   "outputs": [],
   "source": [
    "def data():\n",
    "    \n",
    "    query=(\n",
    "        db.companies.find(\n",
    "            {\n",
    "                '$and':[\n",
    "                    {\n",
    "                        '$or': [\n",
    "                            {'category_code':'games_video'},\n",
    "                            {'category_code':'software'},\n",
    "                            {'category_code':'web'},\n",
    "                            {'category_code':'mobile'},\n",
    "                            {'category_code':'photo_video'},\n",
    "                            {'category_code':'ecommerce'},\n",
    "                            {'category_code':'search'},\n",
    "                            {'category_code':'network_hosting'}\n",
    "                        ]\n",
    "                    },\n",
    "                    {'founded_year':{'$gt':1999}},\n",
    "                    {'offices':{'$ne':[]}},\n",
    "                    {'offices.latitude':{'$ne':[]}},\n",
    "                    {'offices.longitude':{'$ne':[]}},\n",
    "                    {'offices.latitude':{'$ne':None}},\n",
    "                    {'offices.longitude':{'$ne':None}},\n",
    "                    {'deadpooled_year':None},\n",
    "                    {'number_of_employees':{'$ne':None}},\n",
    "                    {'total_money_raised':{'$ne':None}}\n",
    "                ]\n",
    "            },\n",
    "            {'name':1, '_id':0, 'office.latitude':1, 'office.longitude':1,\n",
    "            'founded_year':1, 'category_code':1, 'number_of_employees':1,\n",
    "            'total_money_raised':1}\n",
    "        )\n",
    "    )"
   ]
  }
 ],
 "metadata": {
  "kernelspec": {
   "display_name": "Python 3",
   "language": "python",
   "name": "python3"
  },
  "language_info": {
   "codemirror_mode": {
    "name": "ipython",
    "version": 3
   },
   "file_extension": ".py",
   "mimetype": "text/x-python",
   "name": "python",
   "nbconvert_exporter": "python",
   "pygments_lexer": "ipython3",
   "version": "3.7.6"
  }
 },
 "nbformat": 4,
 "nbformat_minor": 2
}
