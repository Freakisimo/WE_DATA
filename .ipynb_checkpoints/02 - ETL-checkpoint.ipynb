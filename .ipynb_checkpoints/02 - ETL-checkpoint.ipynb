{
 "cells": [
  {
   "cell_type": "code",
   "execution_count": 1,
   "metadata": {},
   "outputs": [
    {
     "name": "stdout",
     "output_type": "stream",
     "text": [
      "Requirement already satisfied: xmltodict in /Users/data/Library/Python/3.7/lib/python/site-packages (0.12.0)\r\n"
     ]
    }
   ],
   "source": [
    "# librerias\n",
    "\n",
    "!pip3 install xmltodict"
   ]
  },
  {
   "cell_type": "code",
   "execution_count": 2,
   "metadata": {},
   "outputs": [
    {
     "name": "stdout",
     "output_type": "stream",
     "text": [
      "Requirement already satisfied: folium in /Users/data/Library/Python/3.7/lib/python/site-packages (0.10.0)\n",
      "Requirement already satisfied: requests in /Users/data/Library/Python/3.7/lib/python/site-packages (from folium) (2.22.0)\n",
      "Requirement already satisfied: numpy in /Users/data/Library/Python/3.7/lib/python/site-packages (from folium) (1.17.2)\n",
      "Requirement already satisfied: jinja2>=2.9 in /Users/data/Library/Python/3.7/lib/python/site-packages (from folium) (2.10.1)\n",
      "Requirement already satisfied: branca>=0.3.0 in /Users/data/Library/Python/3.7/lib/python/site-packages (from folium) (0.3.1)\n",
      "Requirement already satisfied: urllib3!=1.25.0,!=1.25.1,<1.26,>=1.21.1 in /Users/data/Library/Python/3.7/lib/python/site-packages (from requests->folium) (1.24.3)\n",
      "Requirement already satisfied: certifi>=2017.4.17 in /Users/data/Library/Python/3.7/lib/python/site-packages (from requests->folium) (2019.6.16)\n",
      "Requirement already satisfied: idna<2.9,>=2.5 in /Users/data/Library/Python/3.7/lib/python/site-packages (from requests->folium) (2.8)\n",
      "Requirement already satisfied: chardet<3.1.0,>=3.0.2 in /Users/data/Library/Python/3.7/lib/python/site-packages (from requests->folium) (3.0.4)\n",
      "Requirement already satisfied: MarkupSafe>=0.23 in /Users/data/Library/Python/3.7/lib/python/site-packages (from jinja2>=2.9->folium) (1.1.1)\n",
      "Requirement already satisfied: six in /usr/local/Cellar/ipython/7.8.0/libexec/vendor/lib/python3.7/site-packages (from branca>=0.3.0->folium) (1.12.0)\n"
     ]
    }
   ],
   "source": [
    "!pip3 install folium"
   ]
  },
  {
   "cell_type": "code",
   "execution_count": 3,
   "metadata": {},
   "outputs": [
    {
     "name": "stdout",
     "output_type": "stream",
     "text": [
      "Requirement already satisfied: pymongo in /Users/data/Library/Python/3.7/lib/python/site-packages (3.9.0)\r\n"
     ]
    }
   ],
   "source": [
    "!pip3 install pymongo"
   ]
  },
  {
   "cell_type": "code",
   "execution_count": 5,
   "metadata": {},
   "outputs": [
    {
     "name": "stdout",
     "output_type": "stream",
     "text": [
      "Requirement already satisfied: requests in /Users/data/Library/Python/3.7/lib/python/site-packages (2.22.0)\r\n",
      "Requirement already satisfied: chardet<3.1.0,>=3.0.2 in /Users/data/Library/Python/3.7/lib/python/site-packages (from requests) (3.0.4)\r\n",
      "Requirement already satisfied: certifi>=2017.4.17 in /Users/data/Library/Python/3.7/lib/python/site-packages (from requests) (2019.6.16)\r\n",
      "Requirement already satisfied: urllib3!=1.25.0,!=1.25.1,<1.26,>=1.21.1 in /Users/data/Library/Python/3.7/lib/python/site-packages (from requests) (1.24.3)\r\n",
      "Requirement already satisfied: idna<2.9,>=2.5 in /Users/data/Library/Python/3.7/lib/python/site-packages (from requests) (2.8)\r\n"
     ]
    }
   ],
   "source": [
    "!pip3 install requests"
   ]
  },
  {
   "cell_type": "code",
   "execution_count": 6,
   "metadata": {},
   "outputs": [],
   "source": [
    "# !pip3 install xmltodict\n",
    "# !pip3 install folium\n",
    "# !pip3 install pymongo\n",
    "# !pip3 install requests\n",
    "# !pip3 install regex\n",
    "\n",
    "import warnings\n",
    "warnings.simplefilter('ignore')  \n",
    "\n",
    "import requests as req   # para get en la web\n",
    "import xmltodict         # para convertir xml a diccionario\n",
    "import re                # expresiones regulares\n",
    "\n",
    "import folium                # mapa\n",
    "from folium import plugins   # heatmap\n",
    "\n",
    "import pandas as pd  # dataframe\n",
    "\n",
    "import pymongo # mongodb"
   ]
  },
  {
   "cell_type": "code",
   "execution_count": 9,
   "metadata": {},
   "outputs": [],
   "source": [
    "# extraccion \n",
    "\n",
    "def get_data():\n",
    "    \n",
    "    url='http://www.ssn.unam.mx/rss/ultimos-sismos.xml'\n",
    "    \n",
    "    data=req.get(url).content\n",
    "    \n",
    "    return xmltodict.parse(data)"
   ]
  },
  {
   "cell_type": "code",
   "execution_count": 15,
   "metadata": {},
   "outputs": [
    {
     "data": {
      "text/plain": [
       "'<p>Fecha:2020-02-29 05:54:21 (Hora de M&eacute;xico)<br/>Lat/Lon: 14.69/-93.88<br/>Profundidad: 19.0 km </p>'"
      ]
     },
     "execution_count": 15,
     "metadata": {},
     "output_type": "execute_result"
    }
   ],
   "source": [
    "get_data()['rss']['channel']['item'][0]['description']"
   ]
  },
  {
   "cell_type": "code",
   "execution_count": null,
   "metadata": {},
   "outputs": [],
   "source": [
    "# https://regex101.com/"
   ]
  },
  {
   "cell_type": "code",
   "execution_count": 16,
   "metadata": {},
   "outputs": [],
   "source": [
    "# transformacion\n",
    "\n",
    "def get_dictio():\n",
    "    \n",
    "    d=get_data()\n",
    "    \n",
    "    res=[]\n",
    "    \n",
    "    for i in range(len(d['rss']['channel']['item'])):\n",
    "        \n",
    "        data_get=d['rss']['channel']['item'][i]['description'].split('>')[1:4]\n",
    "        \n",
    "        fecha=re.findall('\\d+-\\d+-\\d+', data_get[0])[0]\n",
    "        \n",
    "        hora=re.findall('\\d+:\\d+:\\d+', data_get[0])[0]\n",
    "        \n",
    "        lat=re.findall('-?\\d+.\\d+', data_get[1])[0]\n",
    "        \n",
    "        lng=re.findall('-?\\d+.\\d+', data_get[1])[1]\n",
    "        \n",
    "        prof=re.findall('\\d+.\\d+ \\w+', data_get[2])[0]\n",
    "        \n",
    "        inten=float(d['rss']['channel']['item'][i]['title'].split(',')[0])\n",
    "        \n",
    "        \n",
    "        data={'Fecha':fecha, 'Hora':hora, 'Latitud':lat,\n",
    "              'Longitud':lng, 'Profundidad':prof, 'Intensidad':inten}\n",
    "        \n",
    "        res.append(data)\n",
    "        \n",
    "    return res"
   ]
  },
  {
   "cell_type": "code",
   "execution_count": 17,
   "metadata": {},
   "outputs": [
    {
     "data": {
      "text/plain": [
       "[{'Fecha': '2020-02-29',\n",
       "  'Hora': '05:54:21',\n",
       "  'Latitud': '14.69',\n",
       "  'Longitud': '-93.88',\n",
       "  'Profundidad': '19.0 km',\n",
       "  'Intensidad': 4.6},\n",
       " {'Fecha': '2020-02-29',\n",
       "  'Hora': '04:58:57',\n",
       "  'Latitud': '15.84',\n",
       "  'Longitud': '-97.12',\n",
       "  'Profundidad': '3.0 km',\n",
       "  'Intensidad': 3.7},\n",
       " {'Fecha': '2020-02-29',\n",
       "  'Hora': '04:26:37',\n",
       "  'Latitud': '19.3',\n",
       "  'Longitud': '-105.26',\n",
       "  'Profundidad': '13.0 km',\n",
       "  'Intensidad': 3.7},\n",
       " {'Fecha': '2020-02-29',\n",
       "  'Hora': '03:59:25',\n",
       "  'Latitud': '16.6',\n",
       "  'Longitud': '-99.46',\n",
       "  'Profundidad': '8.0 km',\n",
       "  'Intensidad': 3.0},\n",
       " {'Fecha': '2020-02-29',\n",
       "  'Hora': '03:56:36',\n",
       "  'Latitud': '16.87',\n",
       "  'Longitud': '-99.66',\n",
       "  'Profundidad': '5.0 km',\n",
       "  'Intensidad': 3.3},\n",
       " {'Fecha': '2020-02-29',\n",
       "  'Hora': '03:41:19',\n",
       "  'Latitud': '18.32',\n",
       "  'Longitud': '-97.45',\n",
       "  'Profundidad': '68.0 km',\n",
       "  'Intensidad': 3.9},\n",
       " {'Fecha': '2020-02-29',\n",
       "  'Hora': '03:26:13',\n",
       "  'Latitud': '14.23',\n",
       "  'Longitud': '-92.3',\n",
       "  'Profundidad': '26.0 km',\n",
       "  'Intensidad': 4.0},\n",
       " {'Fecha': '2020-02-29',\n",
       "  'Hora': '03:02:15',\n",
       "  'Latitud': '16.21',\n",
       "  'Longitud': '-98.11',\n",
       "  'Profundidad': '8.0 km',\n",
       "  'Intensidad': 3.5},\n",
       " {'Fecha': '2020-02-29',\n",
       "  'Hora': '02:00:17',\n",
       "  'Latitud': '16.11',\n",
       "  'Longitud': '-95.28',\n",
       "  'Profundidad': '2.0 km',\n",
       "  'Intensidad': 3.6},\n",
       " {'Fecha': '2020-02-29',\n",
       "  'Hora': '01:48:26',\n",
       "  'Latitud': '16.35',\n",
       "  'Longitud': '-98.27',\n",
       "  'Profundidad': '11.0 km',\n",
       "  'Intensidad': 3.4},\n",
       " {'Fecha': '2020-02-29',\n",
       "  'Hora': '01:24:11',\n",
       "  'Latitud': '14.53',\n",
       "  'Longitud': '-92.33',\n",
       "  'Profundidad': '74.0 km',\n",
       "  'Intensidad': 3.6},\n",
       " {'Fecha': '2020-02-29',\n",
       "  'Hora': '01:23:28',\n",
       "  'Latitud': '15.27',\n",
       "  'Longitud': '-94.56',\n",
       "  'Profundidad': '16.0 km',\n",
       "  'Intensidad': 3.8},\n",
       " {'Fecha': '2020-02-29',\n",
       "  'Hora': '01:19:48',\n",
       "  'Latitud': '17.0',\n",
       "  'Longitud': '-100.56',\n",
       "  'Profundidad': '4.0 km',\n",
       "  'Intensidad': 3.4},\n",
       " {'Fecha': '2020-02-29',\n",
       "  'Hora': '00:54:58',\n",
       "  'Latitud': '15.55',\n",
       "  'Longitud': '-94.79',\n",
       "  'Profundidad': '25.0 km',\n",
       "  'Intensidad': 3.9},\n",
       " {'Fecha': '2020-02-29',\n",
       "  'Hora': '00:18:27',\n",
       "  'Latitud': '15.12',\n",
       "  'Longitud': '-94.53',\n",
       "  'Profundidad': '16.0 km',\n",
       "  'Intensidad': 3.8}]"
      ]
     },
     "execution_count": 17,
     "metadata": {},
     "output_type": "execute_result"
    }
   ],
   "source": [
    "get_dictio()"
   ]
  },
  {
   "cell_type": "code",
   "execution_count": 19,
   "metadata": {},
   "outputs": [],
   "source": [
    "# carga base dastos de mongo\n",
    "\n",
    "cliente=pymongo.MongoClient()\n",
    "db=cliente.earthquake"
   ]
  },
  {
   "cell_type": "code",
   "execution_count": 20,
   "metadata": {},
   "outputs": [],
   "source": [
    "def load_mongo():\n",
    "    \n",
    "    data=get_dictio()\n",
    "    \n",
    "    for e in data:\n",
    "        print(e)\n",
    "        db.ssnUnam.update(e, e, upsert=True)"
   ]
  },
  {
   "cell_type": "code",
   "execution_count": 21,
   "metadata": {},
   "outputs": [
    {
     "name": "stdout",
     "output_type": "stream",
     "text": [
      "{'Fecha': '2020-02-29', 'Hora': '05:54:21', 'Latitud': '14.69', 'Longitud': '-93.88', 'Profundidad': '19.0 km', 'Intensidad': 4.6}\n",
      "{'Fecha': '2020-02-29', 'Hora': '04:58:57', 'Latitud': '15.84', 'Longitud': '-97.12', 'Profundidad': '3.0 km', 'Intensidad': 3.7}\n",
      "{'Fecha': '2020-02-29', 'Hora': '04:26:37', 'Latitud': '19.3', 'Longitud': '-105.26', 'Profundidad': '13.0 km', 'Intensidad': 3.7}\n",
      "{'Fecha': '2020-02-29', 'Hora': '03:59:25', 'Latitud': '16.6', 'Longitud': '-99.46', 'Profundidad': '8.0 km', 'Intensidad': 3.0}\n",
      "{'Fecha': '2020-02-29', 'Hora': '03:56:36', 'Latitud': '16.87', 'Longitud': '-99.66', 'Profundidad': '5.0 km', 'Intensidad': 3.3}\n",
      "{'Fecha': '2020-02-29', 'Hora': '03:41:19', 'Latitud': '18.32', 'Longitud': '-97.45', 'Profundidad': '68.0 km', 'Intensidad': 3.9}\n",
      "{'Fecha': '2020-02-29', 'Hora': '03:26:13', 'Latitud': '14.23', 'Longitud': '-92.3', 'Profundidad': '26.0 km', 'Intensidad': 4.0}\n",
      "{'Fecha': '2020-02-29', 'Hora': '03:02:15', 'Latitud': '16.21', 'Longitud': '-98.11', 'Profundidad': '8.0 km', 'Intensidad': 3.5}\n",
      "{'Fecha': '2020-02-29', 'Hora': '02:00:17', 'Latitud': '16.11', 'Longitud': '-95.28', 'Profundidad': '2.0 km', 'Intensidad': 3.6}\n",
      "{'Fecha': '2020-02-29', 'Hora': '01:48:26', 'Latitud': '16.35', 'Longitud': '-98.27', 'Profundidad': '11.0 km', 'Intensidad': 3.4}\n",
      "{'Fecha': '2020-02-29', 'Hora': '01:24:11', 'Latitud': '14.53', 'Longitud': '-92.33', 'Profundidad': '74.0 km', 'Intensidad': 3.6}\n",
      "{'Fecha': '2020-02-29', 'Hora': '01:23:28', 'Latitud': '15.27', 'Longitud': '-94.56', 'Profundidad': '16.0 km', 'Intensidad': 3.8}\n",
      "{'Fecha': '2020-02-29', 'Hora': '01:19:48', 'Latitud': '17.0', 'Longitud': '-100.56', 'Profundidad': '4.0 km', 'Intensidad': 3.4}\n",
      "{'Fecha': '2020-02-29', 'Hora': '00:54:58', 'Latitud': '15.55', 'Longitud': '-94.79', 'Profundidad': '25.0 km', 'Intensidad': 3.9}\n",
      "{'Fecha': '2020-02-29', 'Hora': '00:18:27', 'Latitud': '15.12', 'Longitud': '-94.53', 'Profundidad': '16.0 km', 'Intensidad': 3.8}\n"
     ]
    }
   ],
   "source": [
    "load_mongo()"
   ]
  },
  {
   "cell_type": "code",
   "execution_count": 24,
   "metadata": {},
   "outputs": [],
   "source": [
    "# mapa\n",
    "\n",
    "def load_map(query={'Intensidad':{'$gt':0}}):\n",
    "    \n",
    "    lst=list(db.ssnUnam.find(query))\n",
    "    \n",
    "    data=pd.DataFrame(lst)\n",
    "    \n",
    "    display(data.head())\n",
    "    \n",
    "    value_data=data[['Latitud', 'Longitud']].values\n",
    "    \n",
    "    mapa=folium.Map([19.42, -99.12], zoom_start=4)\n",
    "    \n",
    "    mapa.add_child(plugins.HeatMap(value_data, radius=15))\n",
    "    \n",
    "    #mapa.save('map_mex.html')\n",
    "    \n",
    "    display(mapa)"
   ]
  },
  {
   "cell_type": "code",
   "execution_count": 25,
   "metadata": {},
   "outputs": [
    {
     "data": {
      "text/html": [
       "<div>\n",
       "<style scoped>\n",
       "    .dataframe tbody tr th:only-of-type {\n",
       "        vertical-align: middle;\n",
       "    }\n",
       "\n",
       "    .dataframe tbody tr th {\n",
       "        vertical-align: top;\n",
       "    }\n",
       "\n",
       "    .dataframe thead th {\n",
       "        text-align: right;\n",
       "    }\n",
       "</style>\n",
       "<table border=\"1\" class=\"dataframe\">\n",
       "  <thead>\n",
       "    <tr style=\"text-align: right;\">\n",
       "      <th></th>\n",
       "      <th>Fecha</th>\n",
       "      <th>Hora</th>\n",
       "      <th>Intensidad</th>\n",
       "      <th>Latitud</th>\n",
       "      <th>Longitud</th>\n",
       "      <th>Profundidad</th>\n",
       "      <th>_id</th>\n",
       "    </tr>\n",
       "  </thead>\n",
       "  <tbody>\n",
       "    <tr>\n",
       "      <th>0</th>\n",
       "      <td>2019-10-28</td>\n",
       "      <td>09:08:45</td>\n",
       "      <td>4.0</td>\n",
       "      <td>26.04</td>\n",
       "      <td>-107.89</td>\n",
       "      <td>10.0 km</td>\n",
       "      <td>5db7805d3771a8f231530f47</td>\n",
       "    </tr>\n",
       "    <tr>\n",
       "      <th>1</th>\n",
       "      <td>2019-10-28</td>\n",
       "      <td>08:15:02</td>\n",
       "      <td>4.1</td>\n",
       "      <td>14.13</td>\n",
       "      <td>-93.34</td>\n",
       "      <td>19.0 km</td>\n",
       "      <td>5db7805d3771a8f231530f49</td>\n",
       "    </tr>\n",
       "    <tr>\n",
       "      <th>2</th>\n",
       "      <td>2019-10-28</td>\n",
       "      <td>04:59:59</td>\n",
       "      <td>3.8</td>\n",
       "      <td>17.9</td>\n",
       "      <td>-95.08</td>\n",
       "      <td>120.0 km</td>\n",
       "      <td>5db7805d3771a8f231530f4b</td>\n",
       "    </tr>\n",
       "    <tr>\n",
       "      <th>3</th>\n",
       "      <td>2019-10-28</td>\n",
       "      <td>04:55:15</td>\n",
       "      <td>3.4</td>\n",
       "      <td>16.69</td>\n",
       "      <td>-99.42</td>\n",
       "      <td>7.0 km</td>\n",
       "      <td>5db7805d3771a8f231530f4d</td>\n",
       "    </tr>\n",
       "    <tr>\n",
       "      <th>4</th>\n",
       "      <td>2019-10-28</td>\n",
       "      <td>04:34:54</td>\n",
       "      <td>3.3</td>\n",
       "      <td>16.3</td>\n",
       "      <td>-98.25</td>\n",
       "      <td>13.0 km</td>\n",
       "      <td>5db7805d3771a8f231530f4f</td>\n",
       "    </tr>\n",
       "  </tbody>\n",
       "</table>\n",
       "</div>"
      ],
      "text/plain": [
       "        Fecha      Hora  Intensidad Latitud Longitud Profundidad  \\\n",
       "0  2019-10-28  09:08:45         4.0   26.04  -107.89     10.0 km   \n",
       "1  2019-10-28  08:15:02         4.1   14.13   -93.34     19.0 km   \n",
       "2  2019-10-28  04:59:59         3.8    17.9   -95.08    120.0 km   \n",
       "3  2019-10-28  04:55:15         3.4   16.69   -99.42      7.0 km   \n",
       "4  2019-10-28  04:34:54         3.3    16.3   -98.25     13.0 km   \n",
       "\n",
       "                        _id  \n",
       "0  5db7805d3771a8f231530f47  \n",
       "1  5db7805d3771a8f231530f49  \n",
       "2  5db7805d3771a8f231530f4b  \n",
       "3  5db7805d3771a8f231530f4d  \n",
       "4  5db7805d3771a8f231530f4f  "
      ]
     },
     "metadata": {},
     "output_type": "display_data"
    },
    {
     "data": {
      "text/html": [
       "<div style=\"width:100%;\"><div style=\"position:relative;width:100%;height:0;padding-bottom:60%;\"><iframe src=\"data:text/html;charset=utf-8;base64,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\" style=\"position:absolute;width:100%;height:100%;left:0;top:0;border:none !important;\" allowfullscreen webkitallowfullscreen mozallowfullscreen></iframe></div></div>"
      ],
      "text/plain": [
       "<folium.folium.Map at 0x11ec8e090>"
      ]
     },
     "metadata": {},
     "output_type": "display_data"
    }
   ],
   "source": [
    "load_map()"
   ]
  },
  {
   "cell_type": "code",
   "execution_count": 26,
   "metadata": {},
   "outputs": [
    {
     "data": {
      "text/html": [
       "<div>\n",
       "<style scoped>\n",
       "    .dataframe tbody tr th:only-of-type {\n",
       "        vertical-align: middle;\n",
       "    }\n",
       "\n",
       "    .dataframe tbody tr th {\n",
       "        vertical-align: top;\n",
       "    }\n",
       "\n",
       "    .dataframe thead th {\n",
       "        text-align: right;\n",
       "    }\n",
       "</style>\n",
       "<table border=\"1\" class=\"dataframe\">\n",
       "  <thead>\n",
       "    <tr style=\"text-align: right;\">\n",
       "      <th></th>\n",
       "      <th>Fecha</th>\n",
       "      <th>Hora</th>\n",
       "      <th>Intensidad</th>\n",
       "      <th>Latitud</th>\n",
       "      <th>Longitud</th>\n",
       "      <th>Profundidad</th>\n",
       "      <th>_id</th>\n",
       "    </tr>\n",
       "  </thead>\n",
       "  <tbody>\n",
       "    <tr>\n",
       "      <th>0</th>\n",
       "      <td>2019-12-23</td>\n",
       "      <td>09:47:55</td>\n",
       "      <td>5.8</td>\n",
       "      <td>13.63</td>\n",
       "      <td>-93.22</td>\n",
       "      <td>10.0 km</td>\n",
       "      <td>5e0145f01d3faec122d7e70a</td>\n",
       "    </tr>\n",
       "    <tr>\n",
       "      <th>1</th>\n",
       "      <td>2020-01-10</td>\n",
       "      <td>09:21:22</td>\n",
       "      <td>5.5</td>\n",
       "      <td>18.50</td>\n",
       "      <td>-105.41</td>\n",
       "      <td>12.0 km</td>\n",
       "      <td>5e18ae37dedeed93ea08b729</td>\n",
       "    </tr>\n",
       "    <tr>\n",
       "      <th>2</th>\n",
       "      <td>2020-01-11</td>\n",
       "      <td>08:22:03</td>\n",
       "      <td>5.1</td>\n",
       "      <td>16.26</td>\n",
       "      <td>-98.30</td>\n",
       "      <td>8.0 km</td>\n",
       "      <td>5e19f281dedeed93ea08ba32</td>\n",
       "    </tr>\n",
       "    <tr>\n",
       "      <th>3</th>\n",
       "      <td>2020-01-15</td>\n",
       "      <td>02:15:23</td>\n",
       "      <td>5.1</td>\n",
       "      <td>16.21</td>\n",
       "      <td>-98.06</td>\n",
       "      <td>6.0 km</td>\n",
       "      <td>5e1f22189f65f76062699457</td>\n",
       "    </tr>\n",
       "    <tr>\n",
       "      <th>4</th>\n",
       "      <td>2020-01-24</td>\n",
       "      <td>04:47:49</td>\n",
       "      <td>5.2</td>\n",
       "      <td>16.01</td>\n",
       "      <td>-97.20</td>\n",
       "      <td>27.0 km</td>\n",
       "      <td>5e2afec5c9b8672e2ec782b9</td>\n",
       "    </tr>\n",
       "  </tbody>\n",
       "</table>\n",
       "</div>"
      ],
      "text/plain": [
       "        Fecha      Hora  Intensidad  Latitud  Longitud Profundidad  \\\n",
       "0  2019-12-23  09:47:55         5.8    13.63    -93.22     10.0 km   \n",
       "1  2020-01-10  09:21:22         5.5    18.50   -105.41     12.0 km   \n",
       "2  2020-01-11  08:22:03         5.1    16.26    -98.30      8.0 km   \n",
       "3  2020-01-15  02:15:23         5.1    16.21    -98.06      6.0 km   \n",
       "4  2020-01-24  04:47:49         5.2    16.01    -97.20     27.0 km   \n",
       "\n",
       "                        _id  \n",
       "0  5e0145f01d3faec122d7e70a  \n",
       "1  5e18ae37dedeed93ea08b729  \n",
       "2  5e19f281dedeed93ea08ba32  \n",
       "3  5e1f22189f65f76062699457  \n",
       "4  5e2afec5c9b8672e2ec782b9  "
      ]
     },
     "metadata": {},
     "output_type": "display_data"
    },
    {
     "data": {
      "text/html": [
       "<div style=\"width:100%;\"><div style=\"position:relative;width:100%;height:0;padding-bottom:60%;\"><iframe src=\"data:text/html;charset=utf-8;base64,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\" style=\"position:absolute;width:100%;height:100%;left:0;top:0;border:none !important;\" allowfullscreen webkitallowfullscreen mozallowfullscreen></iframe></div></div>"
      ],
      "text/plain": [
       "<folium.folium.Map at 0x11f52aed0>"
      ]
     },
     "metadata": {},
     "output_type": "display_data"
    }
   ],
   "source": [
    "load_map({'Intensidad':{'$gt':5}})"
   ]
  },
  {
   "cell_type": "markdown",
   "metadata": {},
   "source": [
    "@gabocharles"
   ]
  },
  {
   "cell_type": "code",
   "execution_count": null,
   "metadata": {},
   "outputs": [],
   "source": []
  },
  {
   "cell_type": "code",
   "execution_count": null,
   "metadata": {},
   "outputs": [],
   "source": []
  }
 ],
 "metadata": {
  "kernelspec": {
   "display_name": "Python 3",
   "language": "python",
   "name": "python3"
  },
  "language_info": {
   "codemirror_mode": {
    "name": "ipython",
    "version": 3
   },
   "file_extension": ".py",
   "mimetype": "text/x-python",
   "name": "python",
   "nbconvert_exporter": "python",
   "pygments_lexer": "ipython3",
   "version": "3.7.6"
  }
 },
 "nbformat": 4,
 "nbformat_minor": 2
}
